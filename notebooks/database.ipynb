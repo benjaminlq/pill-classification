{
 "cells": [
  {
   "cell_type": "markdown",
   "metadata": {},
   "source": [
    "# Import & Paths\n"
   ]
  },
  {
   "cell_type": "code",
   "execution_count": 1,
   "metadata": {},
   "outputs": [
    {
     "name": "stdout",
     "output_type": "stream",
     "text": [
      "0.9.38\n"
     ]
    }
   ],
   "source": [
    "import ast\n",
    "import json\n",
    "import numpy as np\n",
    "import openai\n",
    "import os\n",
    "import pandas as pd\n",
    "\n",
    "import llama_index\n",
    "from llama_index.embeddings import OpenAIEmbedding\n",
    "from typing import Union, Dict, Optional\n",
    "\n",
    "print(llama_index.__version__)"
   ]
  },
  {
   "cell_type": "code",
   "execution_count": 2,
   "metadata": {},
   "outputs": [],
   "source": [
    "MAIN_DIR = os.path.dirname(os.getcwd())\n",
    "DATA_DIR = os.path.join(MAIN_DIR, \"data\")\n",
    "DATABASE_DIR = os.path.join(DATA_DIR, \"db\")\n",
    "REFERENCE_DIR = os.path.join(DATA_DIR, \"reference\")\n",
    "CONSUMER_DIR = os.path.join(DATA_DIR, \"consumer\")\n",
    "\n",
    "with open(os.path.join(MAIN_DIR, \"auth\", \"api_keys.json\"), \"r\") as f:\n",
    "    api_keys = json.load(f)\n",
    "    \n",
    "os.environ[\"OPENAI_API_KEY\"] = api_keys[\"LEQUAN_OPENAI_KEY\"]\n",
    "openai.api_key = api_keys[\"LEQUAN_OPENAI_KEY\"]\n",
    "\n",
    "metadata_df = pd.read_csv(os.path.join(DATA_DIR, \"exp_metadata.csv\"))\n",
    "master_metadata = json.load(open(os.path.join(DATA_DIR, \"metadata\", \"master_metadata.json\")))"
   ]
  },
  {
   "cell_type": "code",
   "execution_count": 3,
   "metadata": {},
   "outputs": [],
   "source": [
    "SHAPE_DESCRIPTION = {\n",
    "    \"BULLET\" : \"Has the shape of a cylinder when viewing the capsule from a point perpendicular to its longest side, with a point at one end. The bullet shape is synonymous with torpedo shape\",\n",
    "    \"CAPSULE\" : \"Has the shape of a capsule when viewing the capsule from a point perpendicular to its longest side. The capsule shape is reserved for two-part capsules and banded two-part capsules.\",\n",
    "    \"CLOVER\" : \"Hast the stylized shape, of clover, having three or four leaves with or without the stem\", \n",
    "    \"DIAMOND\" : \"Has the shape of four distinct sides making a parallelogram with two inner obtuse angles and two inner acute angles\",\n",
    "    \"DOUBLE CIRCLE\" : \"Has the shape of two circles joined together, and usually overlapping\", \n",
    "    \"FREEFORM\" : \"Does not have any standard shape (free-form) which does not have 3 or more distinct sides and do\",\n",
    "    \"GEAR\" : \"Has the two dimensional shape of a toothed wheel of a machine part.\", \n",
    "    \"HEPTAGON\" : \"Has the shape with seven distinct sides\", \n",
    "    \"HEXAGON (6 sided)\" : \"Has the shape with six distinct sides\",\n",
    "    \"OCTAGON (8 sided)\" : \"Has The shape with eight distinct sides\",\n",
    "    \"OVAL\" : \"Has the shape of either an oval or an ellipse\", \n",
    "    \"PENTAGON (5 sided)\" : \"Has the shape with five distinct sides\",\n",
    "    \"RECTANGLE\" : \"Has the shape with four distinct sides and four right angles but is not a square\",\n",
    "    \"ROUND\" : \"Has the shape of a circle/spherical\",\n",
    "    \"SEMI-CIRCLE\" : \"Has the shape of half of a circle or half of an oval\",\n",
    "    \"SQUARE\" : \"Has the shape with four distinct and equal sides with four right angles\",\n",
    "    \"TEAR\" : \"Has the shape of a tear/drop of water. \",\n",
    "    \"TRAPEZOID\" : \"Has the shape with four distinct sides whereas only two of the sides are parallel\",\n",
    "    \"TRIANGLE\" : \"Has the shape with three distinct sides\" }\n",
    "\n",
    "SCORE_DESCRIPTION = {\n",
    "    \"1\": \"Pill is not scored to break into smaller dosage parts\",\n",
    "    \"2\": \"Pill can be broken into two (2) equal dosage parts\",\n",
    "    \"3\": \"Pill can typically be broken into two (2) or three (3) equal dosage parts\",\n",
    "    \"4\": \"Pill can typically be broken into two (2) or four (4) equal dosage parts\"\n",
    "}\n",
    "\n",
    "IMPRINT_TYPE_DESCRIPTION = {\n",
    "    \"DEBOSSED\": \"Imprint is depressed into the surface of the pill\", \n",
    "    \"BOSSED\": \"Imprint is raised up from the surface of the pill\",\n",
    "    \"PRINTED\": \"Imprint is printed onto the surface of the pill\"\n",
    "}\n",
    "\n",
    "def format_metadata(\n",
    "    metadata: Union[str, Dict], prefix: Optional[str] = \"Image features:\", suffix: Optional[str] = None, separator: str = \"\\n- \",\n",
    "    extra_descriptions: bool = True\n",
    ") -> str:\n",
    "    if isinstance(metadata, str):\n",
    "        metadata = ast.literal_eval(metadata)\n",
    "    assert isinstance(metadata, Dict), \"Metadata must be a dictionary\"\n",
    "    if extra_descriptions:\n",
    "        metadata[\"Shape\"] = metadata[\"Shape\"] + \" - \" + SHAPE_DESCRIPTION[metadata[\"Shape\"]] \\\n",
    "            if SHAPE_DESCRIPTION.get(metadata[\"Shape\"]) else metadata[\"Shape\"]\n",
    "        metadata[\"Score\"] = SCORE_DESCRIPTION[metadata[\"Score\"]] \\\n",
    "            if SCORE_DESCRIPTION.get(metadata[\"Score\"]) else metadata[\"Score\"]   \n",
    "        metadata[\"ImprintType\"] = metadata[\"ImprintType\"] + \" - \" + IMPRINT_TYPE_DESCRIPTION[metadata[\"ImprintType\"]] \\\n",
    "            if IMPRINT_TYPE_DESCRIPTION.get(metadata[\"ImprintType\"]) else metadata[\"ImprintType\"] \n",
    "\n",
    "    metadata_content = separator.join([f\"{k}: {v}\" for k, v in metadata.items()])\n",
    "    if prefix:\n",
    "        metadata_content = prefix + separator + metadata_content\n",
    "    if suffix:\n",
    "        metadata_content = metadata_content + separator + suffix\n",
    "        \n",
    "    return metadata_content"
   ]
  },
  {
   "cell_type": "markdown",
   "metadata": {},
   "source": [
    "# Text embeddings generation"
   ]
  },
  {
   "cell_type": "code",
   "execution_count": 5,
   "metadata": {},
   "outputs": [
    {
     "name": "stdout",
     "output_type": "stream",
     "text": [
      "Image features:\n",
      "- Shape: CAPSULE - Has the shape of a capsule when viewing the capsule from a point perpendicular to its longest side. The capsule shape is reserved for two-part capsules and banded two-part capsules.\n",
      "- Color: WHITE\n",
      "- Imprint: Lilly;3227;10;mg\n",
      "- ImprintColor: BLACK\n",
      "- ImprintType: PRINTED - Imprint is printed onto the surface of the pill\n",
      "- Score: Pill is not scored to break into smaller dosage parts\n"
     ]
    }
   ],
   "source": [
    "formatted_metadatas = [format_metadata(metadata) for metadata in metadata_df[\"metadata\"]]\n",
    "print(formatted_metadatas[0])"
   ]
  },
  {
   "cell_type": "code",
   "execution_count": 6,
   "metadata": {},
   "outputs": [
    {
     "name": "stderr",
     "output_type": "stream",
     "text": [
      "/mnt/c/Users/QUAN/Desktop/pill/venv/lib/python3.10/site-packages/tqdm/auto.py:21: TqdmWarning: IProgress not found. Please update jupyter and ipywidgets. See https://ipywidgets.readthedocs.io/en/stable/user_install.html\n",
      "  from .autonotebook import tqdm as notebook_tqdm\n",
      "Generating embeddings: 100%|██████████| 2000/2000 [00:42<00:00, 47.16it/s]\n"
     ]
    }
   ],
   "source": [
    "TEXT_EMBED_MODEL = \"text-embedding-3-large\"\n",
    "embeddings = OpenAIEmbedding(model=TEXT_EMBED_MODEL)\n",
    "text_embs = embeddings.get_text_embedding_batch(formatted_metadatas, show_progress=True)"
   ]
  },
  {
   "cell_type": "code",
   "execution_count": 7,
   "metadata": {},
   "outputs": [],
   "source": [
    "text_emb_dict = {}\n",
    "for ndc11, image_file, text_emb, metadata, text_content in zip(metadata_df[\"ndc11\"], metadata_df[\"first_reference\"], text_embs, metadata_df[\"metadata\"], formatted_metadatas):\n",
    "    name = master_metadata[image_file]['name']\n",
    "    text_emb_dict[ndc11] = {\n",
    "        \"name\": name, \"text_emb\": text_emb, \"metadata\": metadata, \"text_content\": text_content\n",
    "    }\n",
    "\n",
    "with open(os.path.join(DATA_DIR, \"embeddings\", f\"REFERENCE_EXTRADISP_{TEXT_EMBED_MODEL}.json\"), \"w\") as f:\n",
    "    json.dump(text_emb_dict, f)"
   ]
  },
  {
   "cell_type": "markdown",
   "metadata": {},
   "source": [
    "# Image Embeddings generation"
   ]
  },
  {
   "cell_type": "code",
   "execution_count": null,
   "metadata": {},
   "outputs": [],
   "source": []
  },
  {
   "cell_type": "markdown",
   "metadata": {},
   "source": [
    "# Hybrid Database Creation"
   ]
  },
  {
   "cell_type": "code",
   "execution_count": null,
   "metadata": {},
   "outputs": [],
   "source": [
    "from llama_index.indices.base_retriever import BaseRetriever\n",
    "\n",
    "class MultiModalRetriever(BaseRetriever):\n",
    "    "
   ]
  }
 ],
 "metadata": {
  "kernelspec": {
   "display_name": "venv",
   "language": "python",
   "name": "python3"
  },
  "language_info": {
   "codemirror_mode": {
    "name": "ipython",
    "version": 3
   },
   "file_extension": ".py",
   "mimetype": "text/x-python",
   "name": "python",
   "nbconvert_exporter": "python",
   "pygments_lexer": "ipython3",
   "version": "3.10.12"
  }
 },
 "nbformat": 4,
 "nbformat_minor": 2
}
