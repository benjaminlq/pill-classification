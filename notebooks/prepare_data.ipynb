{
 "cells": [
  {
   "cell_type": "code",
   "execution_count": 3,
   "metadata": {},
   "outputs": [],
   "source": [
    "import os\n",
    "import pandas as pd\n",
    "from tqdm import tqdm\n",
    "import requests\n",
    "from PIL import Image\n",
    "from io import BytesIO\n",
    "import json\n",
    "import matplotlib.pyplot as plt\n",
    "import numpy as np\n",
    "from typing import Dict, Literal, List, Union\n",
    "from random import sample\n",
    "from functools import partial\n",
    "\n",
    "from shutil import copyfile\n",
    "from glob import glob"
   ]
  },
  {
   "cell_type": "code",
   "execution_count": 4,
   "metadata": {},
   "outputs": [],
   "source": [
    "MAIN_DIR = os.path.dirname(os.getcwd())\n",
    "DATA_DIR = os.path.join(MAIN_DIR, \"data\")\n",
    "PARENT_DL_DIR = \"https://data.lhncbc.nlm.nih.gov/public/Pills\"\n",
    "METADATA_DIR = os.path.join(DATA_DIR, \"metadata\")\n",
    "REFERENCE_DIR = os.path.join(DATA_DIR, \"reference\")\n",
    "CONSUMER_DIR = os.path.join(DATA_DIR, \"consumer\")"
   ]
  },
  {
   "cell_type": "code",
   "execution_count": 5,
   "metadata": {},
   "outputs": [],
   "source": [
    "def convert_ndc_format(ndc_id: str):\n",
    "    ndc_id_filled = ndc_id.zfill(11)\n",
    "    return ndc_id_filled[:5] + \"-\" + ndc_id_filled[5:9] + \"-\" + ndc_id_filled[9:]\n",
    "\n",
    "def plot_images(image_list: Union[str, List[str]]):\n",
    "    if isinstance(image_list, str):\n",
    "        img_data = Image.open(image_list)\n",
    "        img_data = np.array(img_data)\n",
    "        plt.figure()\n",
    "        plt.imgshow(img_data)\n",
    "    else:\n",
    "        plt.figure(figsize = (20, 20 * len(image_list)))\n",
    "        for idx, img_path in enumerate(image_list):\n",
    "            img_data = Image.open(img_path)\n",
    "            img_data = np.array(img_data)\n",
    "            plt.subplot(1, len(image_list), idx + 1)\n",
    "            plt.imshow(img_data)\n",
    "\n",
    "def custom_sample(population: pd.Series, k: int=5):\n",
    "    return sample([value for value in list(set(list(population.values))) if value.endswith(\"JPG\")], k)\n",
    "\n",
    "def extract_metadata(\n",
    "    metadata_content: Dict,\n",
    "    format: Literal[\"original\", \"reference\"] = \"original\"\n",
    "    ):\n",
    "    \n",
    "    if format == \"original\":\n",
    "        extracted_metadata = {\n",
    "            \"ndc11\": convert_ndc_format(metadata_content[\"NDC11\"]),\n",
    "            \"part\": metadata_content[\"Part\"],\n",
    "            \"name\": metadata_content[\"ProprietaryName\"],\n",
    "            \"file_name\": metadata_content[\"File\"][\"Name\"],\n",
    "            \"file_type\": metadata_content.get(\"Layout\") or metadata_content.get(\"Class\"),\n",
    "            \"metadata\": {\n",
    "                'Shape': metadata_content[\"Shape\"],\n",
    "                'Color': metadata_content[\"Color\"],\n",
    "                'Imprint': metadata_content[\"Imprint\"],\n",
    "                'ImprintColor': metadata_content.get(\"ImprintColor\", \"\"),\n",
    "                'ImprintType': metadata_content[\"ImprintType\"],\n",
    "                'Score': metadata_content[\"Score\"]\n",
    "                }\n",
    "        }\n",
    "        \n",
    "    elif format == \"reference\":\n",
    "        extracted_metadata = {\n",
    "            \"labelled\": {\n",
    "                \"ndc11\": metadata_content[\"ndc11\"],\n",
    "                \"part\": metadata_content[\"part\"],\n",
    "                \"name\": metadata_content[\"name\"],\n",
    "                \"file_name\": metadata_content[\"rxnavImageFileName\"],\n",
    "                \"file_type\": \"MC_API_RXNAV_V1.3\",\n",
    "                \"metadata\": {\n",
    "                    'shape': metadata_content[\"mpc\"][\"shape\"],\n",
    "                    'color': metadata_content[\"mpc\"][\"color\"],\n",
    "                    'imprint': metadata_content[\"mpc\"].get(\"imprint\", None),\n",
    "                    'imprintColor': metadata_content[\"mpc\"].get(\"imprintColor\", \"\"),\n",
    "                    'imprintType': metadata_content[\"mpc\"].get(\"imprintType\", \"N/A\"),\n",
    "                    }\n",
    "                },\n",
    "            \"unlabelled\": {\n",
    "                \"ndc11\": metadata_content[\"ndc11\"],\n",
    "                \"part\": metadata_content[\"part\"],\n",
    "                \"name\": metadata_content[\"name\"],\n",
    "                \"file_name\": metadata_content[\"nlmImageFileName\"],\n",
    "                \"file_type\": \"MC_API_NLMIMAGE_V1.3\",\n",
    "                \"metadata\": {\n",
    "                    'shape': metadata_content[\"mpc\"][\"shape\"],\n",
    "                    'color': metadata_content[\"mpc\"][\"color\"],\n",
    "                    'imprint': metadata_content[\"mpc\"].get(\"imprint\", None),\n",
    "                    'imprintColor': metadata_content[\"mpc\"].get(\"imprintColor\", \"\"),\n",
    "                    'imprintType': metadata_content[\"mpc\"].get(\"imprintType\", \"N/A\"),\n",
    "                    }\n",
    "                }\n",
    "            }\n",
    "    else:\n",
    "        raise ValueError(\"Not supported format\")\n",
    "\n",
    "    return extracted_metadata"
   ]
  },
  {
   "cell_type": "code",
   "execution_count": 6,
   "metadata": {},
   "outputs": [
    {
     "data": {
      "text/html": [
       "<div>\n",
       "<style scoped>\n",
       "    .dataframe tbody tr th:only-of-type {\n",
       "        vertical-align: middle;\n",
       "    }\n",
       "\n",
       "    .dataframe tbody tr th {\n",
       "        vertical-align: top;\n",
       "    }\n",
       "\n",
       "    .dataframe thead th {\n",
       "        text-align: right;\n",
       "    }\n",
       "</style>\n",
       "<table border=\"1\" class=\"dataframe\">\n",
       "  <thead>\n",
       "    <tr style=\"text-align: right;\">\n",
       "      <th></th>\n",
       "      <th>ndc11</th>\n",
       "      <th>part</th>\n",
       "      <th>image</th>\n",
       "      <th>layout</th>\n",
       "      <th>name</th>\n",
       "    </tr>\n",
       "  </thead>\n",
       "  <tbody>\n",
       "    <tr>\n",
       "      <th>0</th>\n",
       "      <td>00002-3227-30</td>\n",
       "      <td>1</td>\n",
       "      <td>PillProjectDisc69/images/CLLLLUPGIX7J8MP1WWQ9W...</td>\n",
       "      <td>C3PI_Reference</td>\n",
       "      <td>STRATTERA 10MG</td>\n",
       "    </tr>\n",
       "    <tr>\n",
       "      <th>1</th>\n",
       "      <td>00002-3227-30</td>\n",
       "      <td>1</td>\n",
       "      <td>PillProjectDisc98/images/PRNJ-AXZIQ!HUQKJJBP_D...</td>\n",
       "      <td>C3PI_Reference</td>\n",
       "      <td>STRATTERA 10MG</td>\n",
       "    </tr>\n",
       "    <tr>\n",
       "      <th>2</th>\n",
       "      <td>00002-3227-30</td>\n",
       "      <td>1</td>\n",
       "      <td>PillProjectDisc10/images/79U-YY6M1UUR6F127ZMAC...</td>\n",
       "      <td>C3PI_Test</td>\n",
       "      <td>STRATTERA 10MG</td>\n",
       "    </tr>\n",
       "    <tr>\n",
       "      <th>3</th>\n",
       "      <td>00002-3227-30</td>\n",
       "      <td>1</td>\n",
       "      <td>PillProjectDisc11/images/7WVFV5H74!ELFNQ_GUH92...</td>\n",
       "      <td>C3PI_Test</td>\n",
       "      <td>STRATTERA 10MG</td>\n",
       "    </tr>\n",
       "    <tr>\n",
       "      <th>4</th>\n",
       "      <td>00002-3227-30</td>\n",
       "      <td>1</td>\n",
       "      <td>PillProjectDisc20/images/B4CH0R9B7PEQ6GORRX-8X...</td>\n",
       "      <td>C3PI_Test</td>\n",
       "      <td>STRATTERA 10MG</td>\n",
       "    </tr>\n",
       "  </tbody>\n",
       "</table>\n",
       "</div>"
      ],
      "text/plain": [
       "           ndc11  part                                              image  \\\n",
       "0  00002-3227-30     1  PillProjectDisc69/images/CLLLLUPGIX7J8MP1WWQ9W...   \n",
       "1  00002-3227-30     1  PillProjectDisc98/images/PRNJ-AXZIQ!HUQKJJBP_D...   \n",
       "2  00002-3227-30     1  PillProjectDisc10/images/79U-YY6M1UUR6F127ZMAC...   \n",
       "3  00002-3227-30     1  PillProjectDisc11/images/7WVFV5H74!ELFNQ_GUH92...   \n",
       "4  00002-3227-30     1  PillProjectDisc20/images/B4CH0R9B7PEQ6GORRX-8X...   \n",
       "\n",
       "           layout            name  \n",
       "0  C3PI_Reference  STRATTERA 10MG  \n",
       "1  C3PI_Reference  STRATTERA 10MG  \n",
       "2       C3PI_Test  STRATTERA 10MG  \n",
       "3       C3PI_Test  STRATTERA 10MG  \n",
       "4       C3PI_Test  STRATTERA 10MG  "
      ]
     },
     "execution_count": 6,
     "metadata": {},
     "output_type": "execute_result"
    }
   ],
   "source": [
    "master_df = pd.read_csv(os.path.join(DATA_DIR, \"metadata\", \"directory_consumer_grade_images.csv\"))\n",
    "master_df.columns = master_df.columns.str.lower()\n",
    "# master_df[\"NDC11\"] = master_df[\"NDC11\"].apply(lambda x: convert_ndc_format(x))\n",
    "# master_df.to_csv(os.path.join(DATA_DIR, \"metadata\", \"directory_consumer_grade_images.csv\"), index=False)\n",
    "\n",
    "master_df.head()"
   ]
  },
  {
   "cell_type": "code",
   "execution_count": 5,
   "metadata": {},
   "outputs": [
    {
     "name": "stdout",
     "output_type": "stream",
     "text": [
      "Total number of rows: 133770\n",
      "Total number of unique drugs: 4864\n",
      "Total number of unique drugs and parts: 5014\n"
     ]
    }
   ],
   "source": [
    "print(\"Total number of rows:\", len(master_df))\n",
    "print(\"Total number of unique drugs:\", len(master_df[\"ndc11\"].unique()))\n",
    "print(\"Total number of unique drugs and parts:\", len(master_df[[\"ndc11\", \"part\"]].drop_duplicates()))"
   ]
  },
  {
   "cell_type": "markdown",
   "metadata": {},
   "source": [
    "# Download Test dataset"
   ]
  },
  {
   "cell_type": "markdown",
   "metadata": {},
   "source": [
    "## Download"
   ]
  },
  {
   "cell_type": "code",
   "execution_count": 10,
   "metadata": {},
   "outputs": [],
   "source": [
    "DATASET_SIZE = 2000\n",
    "NO_CONSUMER_IMAGES = 5"
   ]
  },
  {
   "cell_type": "code",
   "execution_count": 70,
   "metadata": {},
   "outputs": [
    {
     "name": "stdout",
     "output_type": "stream",
     "text": [
      "Number of rows in reference dataset: 4000\n",
      "Number of pills in reference dataset: 2000\n",
      "Number of rows in consumer dataset: 36141\n",
      "Number of pills in consumer dataset: 2000\n",
      "2000\n"
     ]
    }
   ],
   "source": [
    "reference_df = master_df[master_df[\"layout\"] == \"MC_CHALLENGE_V1.0\"]\n",
    "reference_count_df = reference_df.groupby([\"ndc11\", \"part\"])[\"ndc11\"].value_counts().reset_index()\n",
    "reference_count_df = reference_count_df[(reference_count_df[\"count\"]==2)&(reference_count_df[\"part\"]==1)]\n",
    "reference_list = reference_count_df[\"ndc11\"].values[:DATASET_SIZE]\n",
    "reference_df = reference_df[reference_df[\"part\"] == 1]\n",
    "reference_df = reference_df[reference_df[\"ndc11\"].isin(reference_list)]\n",
    "reference_df[\"reference_count\"] = reference_df.groupby(\"ndc11\")[\"image\"].rank()\n",
    "print(\"Number of rows in reference dataset:\", len(reference_df))\n",
    "print(\"Number of pills in reference dataset:\", len(reference_df[\"ndc11\"].unique()))\n",
    "\n",
    "consumer_df = master_df[master_df[\"layout\"] == \"C3PI_Test\"]\n",
    "consumer_df = consumer_df[consumer_df[\"part\"] == 1]\n",
    "consumer_df = consumer_df[consumer_df[\"ndc11\"].isin(reference_list)]\n",
    "\n",
    "print(\"Number of rows in consumer dataset:\", len(consumer_df))\n",
    "print(\"Number of pills in consumer dataset:\", len(consumer_df[\"ndc11\"].unique()))\n",
    "\n",
    "sampled_consumer_df = consumer_df.groupby(\"ndc11\").agg({\"image\": partial(custom_sample, k=NO_CONSUMER_IMAGES)}).reset_index()\n",
    "final_test_df = pd.concat(\n",
    "    [\n",
    "        sampled_consumer_df[[\"ndc11\"]],\n",
    "        pd.DataFrame(sampled_consumer_df[\"image\"].values.tolist(), columns=[f\"consumer_{i+1}\" for i in range(5)])\n",
    "    ], axis=1\n",
    ")\n",
    "first_reference = reference_df[reference_df[\"reference_count\"] == 1][[\"ndc11\", \"image\"]].rename(columns={\"image\": \"first_reference\"})\n",
    "second_reference = reference_df[reference_df[\"reference_count\"] == 2][[\"ndc11\", \"image\"]].rename(columns={\"image\": \"second_reference\"})\n",
    "\n",
    "final_test_df = final_test_df.merge(first_reference, how=\"inner\", on=\"ndc11\")\n",
    "final_test_df = final_test_df.merge(second_reference, how=\"inner\", on=\"ndc11\")\n",
    "\n",
    "print(len(final_test_df))"
   ]
  },
  {
   "cell_type": "code",
   "execution_count": null,
   "metadata": {},
   "outputs": [],
   "source": [
    "# Download all reference and consumer images\n",
    "# with open(os.path.join(DATA_DIR, \"consumers\", \"MC_CHALLENGE_V1_test.txt\"), 'a') as f:\n",
    "\n",
    "#     for filename in tqdm(test_df[\"image\"].values, total=len(test_df[\"image\"].values)):\n",
    "#         img_url = os.path.join(PARENT_DL_DIR, filename)\n",
    "#         download_url = os.path.join(DATA_DIR, \"consumers\", filename)\n",
    "#         if not os.path.exists(os.path.dirname(download_url)):\n",
    "#             os.makedirs(os.path.dirname(download_url), exist_ok=True)\n",
    "            \n",
    "#         img_data = requests.get(img_url).content\n",
    "        \n",
    "#         if img_url.endswith(\"JPG\") or img_url.endswith(\"PNG\"):\n",
    "#             # Image\n",
    "#             img = Image.open(BytesIO(img_data))           \n",
    "#             img.save(download_url)\n",
    "        \n",
    "#         elif img_url.endswith(\"WMV\"):\n",
    "#             with open(download_url, 'wb') as handler:\n",
    "#                 handler.write(img_data)\n",
    "        \n",
    "#         f.write(download_url + \"\\n\")"
   ]
  },
  {
   "cell_type": "markdown",
   "metadata": {},
   "source": [
    "# Reference Dataset"
   ]
  },
  {
   "cell_type": "code",
   "execution_count": 53,
   "metadata": {},
   "outputs": [
    {
     "name": "stdout",
     "output_type": "stream",
     "text": [
      "Number of rows in reference df: 4392\n",
      "Number of unique pills in reference df: 4236\n"
     ]
    },
    {
     "data": {
      "text/html": [
       "<div>\n",
       "<style scoped>\n",
       "    .dataframe tbody tr th:only-of-type {\n",
       "        vertical-align: middle;\n",
       "    }\n",
       "\n",
       "    .dataframe tbody tr th {\n",
       "        vertical-align: top;\n",
       "    }\n",
       "\n",
       "    .dataframe thead th {\n",
       "        text-align: right;\n",
       "    }\n",
       "</style>\n",
       "<table border=\"1\" class=\"dataframe\">\n",
       "  <thead>\n",
       "    <tr style=\"text-align: right;\">\n",
       "      <th></th>\n",
       "      <th>ndc11</th>\n",
       "      <th>part</th>\n",
       "      <th>rxcui</th>\n",
       "      <th>name</th>\n",
       "      <th>rxnavimageobjectid</th>\n",
       "      <th>rxnavimagefilename</th>\n",
       "      <th>nlmimagefilename</th>\n",
       "      <th>rxnav 120</th>\n",
       "      <th>rxbase 120</th>\n",
       "      <th>rxnav 300</th>\n",
       "      <th>rxbase 300</th>\n",
       "      <th>rxnav 600</th>\n",
       "      <th>rxbase 600</th>\n",
       "      <th>rxnav 800</th>\n",
       "      <th>rxbase 800</th>\n",
       "      <th>rxnav 1024</th>\n",
       "      <th>rxbase 1024</th>\n",
       "      <th>rxnav original</th>\n",
       "      <th>rxbase original</th>\n",
       "    </tr>\n",
       "  </thead>\n",
       "  <tbody>\n",
       "    <tr>\n",
       "      <th>0</th>\n",
       "      <td>00093-0311-01</td>\n",
       "      <td>1</td>\n",
       "      <td>978006</td>\n",
       "      <td>Loperamide Hydrochloride 2 MG Oral Capsule</td>\n",
       "      <td>185643662</td>\n",
       "      <td>00093-0311-01_RXNAVIMAGE10_26211358.jpg</td>\n",
       "      <td>00093-0311-01_NLMIMAGE10_6315B1FD.jpg</td>\n",
       "      <td>image/images/gallery/120/00093-0311-01_RXNAVIM...</td>\n",
       "      <td>image/images/gallery/120/00093-0311-01_NLMIMAG...</td>\n",
       "      <td>image/images/gallery/300/00093-0311-01_RXNAVIM...</td>\n",
       "      <td>image/images/gallery/300/00093-0311-01_NLMIMAG...</td>\n",
       "      <td>image/images/gallery/600/00093-0311-01_RXNAVIM...</td>\n",
       "      <td>image/images/gallery/600/00093-0311-01_NLMIMAG...</td>\n",
       "      <td>image/images/gallery/800/00093-0311-01_RXNAVIM...</td>\n",
       "      <td>image/images/gallery/800/00093-0311-01_NLMIMAG...</td>\n",
       "      <td>image/images/gallery/1024/00093-0311-01_RXNAVI...</td>\n",
       "      <td>image/images/gallery/1024/00093-0311-01_NLMIMA...</td>\n",
       "      <td>image/images/gallery/original/00093-0311-01_RX...</td>\n",
       "      <td>image/images/gallery/original/00093-0311-01_NL...</td>\n",
       "    </tr>\n",
       "    <tr>\n",
       "      <th>1</th>\n",
       "      <td>00093-3165-01</td>\n",
       "      <td>1</td>\n",
       "      <td>197985</td>\n",
       "      <td>Minocycline 50 MG Oral Capsule</td>\n",
       "      <td>185646490</td>\n",
       "      <td>00093-3165-01_RXNAVIMAGE10_36231B28.jpg</td>\n",
       "      <td>00093-3165-01_NLMIMAGE10_19270CA8.jpg</td>\n",
       "      <td>image/images/gallery/120/00093-3165-01_RXNAVIM...</td>\n",
       "      <td>image/images/gallery/120/00093-3165-01_NLMIMAG...</td>\n",
       "      <td>image/images/gallery/300/00093-3165-01_RXNAVIM...</td>\n",
       "      <td>image/images/gallery/300/00093-3165-01_NLMIMAG...</td>\n",
       "      <td>image/images/gallery/600/00093-3165-01_RXNAVIM...</td>\n",
       "      <td>image/images/gallery/600/00093-3165-01_NLMIMAG...</td>\n",
       "      <td>image/images/gallery/800/00093-3165-01_RXNAVIM...</td>\n",
       "      <td>image/images/gallery/800/00093-3165-01_NLMIMAG...</td>\n",
       "      <td>image/images/gallery/1024/00093-3165-01_RXNAVI...</td>\n",
       "      <td>image/images/gallery/1024/00093-3165-01_NLMIMA...</td>\n",
       "      <td>image/images/gallery/original/00093-3165-01_RX...</td>\n",
       "      <td>image/images/gallery/original/00093-3165-01_NL...</td>\n",
       "    </tr>\n",
       "    <tr>\n",
       "      <th>2</th>\n",
       "      <td>00093-0810-01</td>\n",
       "      <td>1</td>\n",
       "      <td>198045</td>\n",
       "      <td>Nortriptyline 10 MG Oral Capsule</td>\n",
       "      <td>185646437</td>\n",
       "      <td>00093-0810-01_RXNAVIMAGE10_24231228.jpg</td>\n",
       "      <td>00093-0810-01_NLMIMAGE10_34271A58.jpg</td>\n",
       "      <td>image/images/gallery/120/00093-0810-01_RXNAVIM...</td>\n",
       "      <td>image/images/gallery/120/00093-0810-01_NLMIMAG...</td>\n",
       "      <td>image/images/gallery/300/00093-0810-01_RXNAVIM...</td>\n",
       "      <td>image/images/gallery/300/00093-0810-01_NLMIMAG...</td>\n",
       "      <td>image/images/gallery/600/00093-0810-01_RXNAVIM...</td>\n",
       "      <td>image/images/gallery/600/00093-0810-01_NLMIMAG...</td>\n",
       "      <td>image/images/gallery/800/00093-0810-01_RXNAVIM...</td>\n",
       "      <td>image/images/gallery/800/00093-0810-01_NLMIMAG...</td>\n",
       "      <td>image/images/gallery/1024/00093-0810-01_RXNAVI...</td>\n",
       "      <td>image/images/gallery/1024/00093-0810-01_NLMIMA...</td>\n",
       "      <td>image/images/gallery/original/00093-0810-01_RX...</td>\n",
       "      <td>image/images/gallery/original/00093-0810-01_NL...</td>\n",
       "    </tr>\n",
       "    <tr>\n",
       "      <th>3</th>\n",
       "      <td>00093-0811-01</td>\n",
       "      <td>1</td>\n",
       "      <td>317136</td>\n",
       "      <td>Nortriptyline 25 MG Oral Capsule</td>\n",
       "      <td>185646420</td>\n",
       "      <td>00093-0811-01_RXNAVIMAGE10_20231018.jpg</td>\n",
       "      <td>00093-0811-01_NLMIMAGE10_15270A98.jpg</td>\n",
       "      <td>image/images/gallery/120/00093-0811-01_RXNAVIM...</td>\n",
       "      <td>image/images/gallery/120/00093-0811-01_NLMIMAG...</td>\n",
       "      <td>image/images/gallery/300/00093-0811-01_RXNAVIM...</td>\n",
       "      <td>image/images/gallery/300/00093-0811-01_NLMIMAG...</td>\n",
       "      <td>image/images/gallery/600/00093-0811-01_RXNAVIM...</td>\n",
       "      <td>image/images/gallery/600/00093-0811-01_NLMIMAG...</td>\n",
       "      <td>image/images/gallery/800/00093-0811-01_RXNAVIM...</td>\n",
       "      <td>image/images/gallery/800/00093-0811-01_NLMIMAG...</td>\n",
       "      <td>image/images/gallery/1024/00093-0811-01_RXNAVI...</td>\n",
       "      <td>image/images/gallery/1024/00093-0811-01_NLMIMA...</td>\n",
       "      <td>image/images/gallery/original/00093-0811-01_RX...</td>\n",
       "      <td>image/images/gallery/original/00093-0811-01_NL...</td>\n",
       "    </tr>\n",
       "    <tr>\n",
       "      <th>4</th>\n",
       "      <td>00093-0812-01</td>\n",
       "      <td>1</td>\n",
       "      <td>198046</td>\n",
       "      <td>Nortriptyline 50 MG Oral Capsule</td>\n",
       "      <td>185646464</td>\n",
       "      <td>00093-0812-01_RXNAVIMAGE10_2D2316D8.jpg</td>\n",
       "      <td>00093-0812-01_NLMIMAGE10_DD0E6EE3.jpg</td>\n",
       "      <td>image/images/gallery/120/00093-0812-01_RXNAVIM...</td>\n",
       "      <td>image/images/gallery/120/00093-0812-01_NLMIMAG...</td>\n",
       "      <td>image/images/gallery/300/00093-0812-01_RXNAVIM...</td>\n",
       "      <td>image/images/gallery/300/00093-0812-01_NLMIMAG...</td>\n",
       "      <td>image/images/gallery/600/00093-0812-01_RXNAVIM...</td>\n",
       "      <td>image/images/gallery/600/00093-0812-01_NLMIMAG...</td>\n",
       "      <td>image/images/gallery/800/00093-0812-01_RXNAVIM...</td>\n",
       "      <td>image/images/gallery/800/00093-0812-01_NLMIMAG...</td>\n",
       "      <td>image/images/gallery/1024/00093-0812-01_RXNAVI...</td>\n",
       "      <td>image/images/gallery/1024/00093-0812-01_NLMIMA...</td>\n",
       "      <td>image/images/gallery/original/00093-0812-01_RX...</td>\n",
       "      <td>image/images/gallery/original/00093-0812-01_NL...</td>\n",
       "    </tr>\n",
       "  </tbody>\n",
       "</table>\n",
       "</div>"
      ],
      "text/plain": [
       "           ndc11  part   rxcui                                        name  \\\n",
       "0  00093-0311-01     1  978006  Loperamide Hydrochloride 2 MG Oral Capsule   \n",
       "1  00093-3165-01     1  197985              Minocycline 50 MG Oral Capsule   \n",
       "2  00093-0810-01     1  198045            Nortriptyline 10 MG Oral Capsule   \n",
       "3  00093-0811-01     1  317136            Nortriptyline 25 MG Oral Capsule   \n",
       "4  00093-0812-01     1  198046            Nortriptyline 50 MG Oral Capsule   \n",
       "\n",
       "   rxnavimageobjectid                       rxnavimagefilename  \\\n",
       "0           185643662  00093-0311-01_RXNAVIMAGE10_26211358.jpg   \n",
       "1           185646490  00093-3165-01_RXNAVIMAGE10_36231B28.jpg   \n",
       "2           185646437  00093-0810-01_RXNAVIMAGE10_24231228.jpg   \n",
       "3           185646420  00093-0811-01_RXNAVIMAGE10_20231018.jpg   \n",
       "4           185646464  00093-0812-01_RXNAVIMAGE10_2D2316D8.jpg   \n",
       "\n",
       "                        nlmimagefilename  \\\n",
       "0  00093-0311-01_NLMIMAGE10_6315B1FD.jpg   \n",
       "1  00093-3165-01_NLMIMAGE10_19270CA8.jpg   \n",
       "2  00093-0810-01_NLMIMAGE10_34271A58.jpg   \n",
       "3  00093-0811-01_NLMIMAGE10_15270A98.jpg   \n",
       "4  00093-0812-01_NLMIMAGE10_DD0E6EE3.jpg   \n",
       "\n",
       "                                           rxnav 120  \\\n",
       "0  image/images/gallery/120/00093-0311-01_RXNAVIM...   \n",
       "1  image/images/gallery/120/00093-3165-01_RXNAVIM...   \n",
       "2  image/images/gallery/120/00093-0810-01_RXNAVIM...   \n",
       "3  image/images/gallery/120/00093-0811-01_RXNAVIM...   \n",
       "4  image/images/gallery/120/00093-0812-01_RXNAVIM...   \n",
       "\n",
       "                                          rxbase 120  \\\n",
       "0  image/images/gallery/120/00093-0311-01_NLMIMAG...   \n",
       "1  image/images/gallery/120/00093-3165-01_NLMIMAG...   \n",
       "2  image/images/gallery/120/00093-0810-01_NLMIMAG...   \n",
       "3  image/images/gallery/120/00093-0811-01_NLMIMAG...   \n",
       "4  image/images/gallery/120/00093-0812-01_NLMIMAG...   \n",
       "\n",
       "                                           rxnav 300  \\\n",
       "0  image/images/gallery/300/00093-0311-01_RXNAVIM...   \n",
       "1  image/images/gallery/300/00093-3165-01_RXNAVIM...   \n",
       "2  image/images/gallery/300/00093-0810-01_RXNAVIM...   \n",
       "3  image/images/gallery/300/00093-0811-01_RXNAVIM...   \n",
       "4  image/images/gallery/300/00093-0812-01_RXNAVIM...   \n",
       "\n",
       "                                          rxbase 300  \\\n",
       "0  image/images/gallery/300/00093-0311-01_NLMIMAG...   \n",
       "1  image/images/gallery/300/00093-3165-01_NLMIMAG...   \n",
       "2  image/images/gallery/300/00093-0810-01_NLMIMAG...   \n",
       "3  image/images/gallery/300/00093-0811-01_NLMIMAG...   \n",
       "4  image/images/gallery/300/00093-0812-01_NLMIMAG...   \n",
       "\n",
       "                                           rxnav 600  \\\n",
       "0  image/images/gallery/600/00093-0311-01_RXNAVIM...   \n",
       "1  image/images/gallery/600/00093-3165-01_RXNAVIM...   \n",
       "2  image/images/gallery/600/00093-0810-01_RXNAVIM...   \n",
       "3  image/images/gallery/600/00093-0811-01_RXNAVIM...   \n",
       "4  image/images/gallery/600/00093-0812-01_RXNAVIM...   \n",
       "\n",
       "                                          rxbase 600  \\\n",
       "0  image/images/gallery/600/00093-0311-01_NLMIMAG...   \n",
       "1  image/images/gallery/600/00093-3165-01_NLMIMAG...   \n",
       "2  image/images/gallery/600/00093-0810-01_NLMIMAG...   \n",
       "3  image/images/gallery/600/00093-0811-01_NLMIMAG...   \n",
       "4  image/images/gallery/600/00093-0812-01_NLMIMAG...   \n",
       "\n",
       "                                           rxnav 800  \\\n",
       "0  image/images/gallery/800/00093-0311-01_RXNAVIM...   \n",
       "1  image/images/gallery/800/00093-3165-01_RXNAVIM...   \n",
       "2  image/images/gallery/800/00093-0810-01_RXNAVIM...   \n",
       "3  image/images/gallery/800/00093-0811-01_RXNAVIM...   \n",
       "4  image/images/gallery/800/00093-0812-01_RXNAVIM...   \n",
       "\n",
       "                                          rxbase 800  \\\n",
       "0  image/images/gallery/800/00093-0311-01_NLMIMAG...   \n",
       "1  image/images/gallery/800/00093-3165-01_NLMIMAG...   \n",
       "2  image/images/gallery/800/00093-0810-01_NLMIMAG...   \n",
       "3  image/images/gallery/800/00093-0811-01_NLMIMAG...   \n",
       "4  image/images/gallery/800/00093-0812-01_NLMIMAG...   \n",
       "\n",
       "                                          rxnav 1024  \\\n",
       "0  image/images/gallery/1024/00093-0311-01_RXNAVI...   \n",
       "1  image/images/gallery/1024/00093-3165-01_RXNAVI...   \n",
       "2  image/images/gallery/1024/00093-0810-01_RXNAVI...   \n",
       "3  image/images/gallery/1024/00093-0811-01_RXNAVI...   \n",
       "4  image/images/gallery/1024/00093-0812-01_RXNAVI...   \n",
       "\n",
       "                                         rxbase 1024  \\\n",
       "0  image/images/gallery/1024/00093-0311-01_NLMIMA...   \n",
       "1  image/images/gallery/1024/00093-3165-01_NLMIMA...   \n",
       "2  image/images/gallery/1024/00093-0810-01_NLMIMA...   \n",
       "3  image/images/gallery/1024/00093-0811-01_NLMIMA...   \n",
       "4  image/images/gallery/1024/00093-0812-01_NLMIMA...   \n",
       "\n",
       "                                      rxnav original  \\\n",
       "0  image/images/gallery/original/00093-0311-01_RX...   \n",
       "1  image/images/gallery/original/00093-3165-01_RX...   \n",
       "2  image/images/gallery/original/00093-0810-01_RX...   \n",
       "3  image/images/gallery/original/00093-0811-01_RX...   \n",
       "4  image/images/gallery/original/00093-0812-01_RX...   \n",
       "\n",
       "                                     rxbase original  \n",
       "0  image/images/gallery/original/00093-0311-01_NL...  \n",
       "1  image/images/gallery/original/00093-3165-01_NL...  \n",
       "2  image/images/gallery/original/00093-0810-01_NL...  \n",
       "3  image/images/gallery/original/00093-0811-01_NL...  \n",
       "4  image/images/gallery/original/00093-0812-01_NL...  "
      ]
     },
     "execution_count": 53,
     "metadata": {},
     "output_type": "execute_result"
    }
   ],
   "source": [
    "reference_df = pd.read_csv(os.path.join(DATA_DIR, \"metadata\", \"directory_reference_images_updated.csv\"))\n",
    "reference_df.columns = reference_df.columns.str.lower()\n",
    "print(\"Number of rows in reference df:\", len(reference_df))\n",
    "print(\"Number of unique pills in reference df:\", len(reference_df[\"ndc11\"].unique()))\n",
    "reference_df.head()"
   ]
  },
  {
   "cell_type": "code",
   "execution_count": null,
   "metadata": {},
   "outputs": [],
   "source": [
    "# # Fill in reference_df\n",
    "# reference_df = pd.read_csv(os.path.join(DATA_DIR, \"metadata\", \"directory_reference_images.csv\"))\n",
    "# test_id2name = master_df[['ndc11', 'name']].drop_duplicates().set_index(\"ndc11\").to_dict()[\"name\"]\n",
    "# reference_no_name_df = reference_df[reference_df[\"name\"].isna()]\n",
    "\n",
    "# for idx, no_name_pill_id in enumerate(reference_no_name_df[\"ndc11\"]):\n",
    "#     if no_name_pill_id in list(test_id2name.keys()):\n",
    "#         reference_df.loc[reference_df[\"ndc11\"] == no_name_pill_id, \"name\"] = test_id2name[no_name_pill_id]\n",
    "#     else:\n",
    "#         print(idx, no_name_pill_id)\n",
    "        \n",
    "# reference_df.to_csv(os.path.join(DATA_DIR, \"metadata/directory_reference_images_updated.csv\"))\n",
    "\n",
    "# with open(os.path.join(DATA_DIR, \"rximage\", \"MONGOexport\", \"rximagesAll.json\"), \"r\") as f:\n",
    "#     reference_metadata = json.load(f)\n",
    "    \n",
    "# for metadata in reference_metadata:\n",
    "#     part = metadata['part']\n",
    "#     rxnavImageFileName = metadata['rxnavimagefilename']\n",
    "#     reference_df.loc[reference_df[\"rxnavimagefilename\"] == rxnavImageFileName, \"part\"] = part\n",
    "    \n",
    "# reference_df.to_csv(os.path.join(DATA_DIR, \"metadata/directory_reference_images_updated.csv\"), index=False)"
   ]
  },
  {
   "cell_type": "code",
   "execution_count": 7,
   "metadata": {},
   "outputs": [],
   "source": [
    "reference_list = list(reference_df[\"ndc11\"].unique())"
   ]
  },
  {
   "cell_type": "markdown",
   "metadata": {},
   "source": [
    "# Prepare Metadata File"
   ]
  },
  {
   "cell_type": "markdown",
   "metadata": {},
   "source": [
    "## Download all metadata Files"
   ]
  },
  {
   "cell_type": "code",
   "execution_count": 21,
   "metadata": {},
   "outputs": [],
   "source": [
    "# # Download all metadata\n",
    "# import xmltodict\n",
    "\n",
    "# for idx in range(1, 111):\n",
    "\n",
    "#     metadata_url = f\"https://data.lhncbc.nlm.nih.gov/public/Pills/ALLXML/PillProjectDisc{idx}.xml\"\n",
    "#     metadata = requests.get(metadata_url).content\n",
    "#     metadata_dict = xmltodict.parse(metadata)\n",
    "#     image_list = metadata_dict['MedicosConsultants']['ImageExport']['Image']\n",
    "#     image_dict = {\n",
    "#         metadata[\"File\"][\"Name\"]: metadata for metadata in image_list\n",
    "#     }\n",
    "    \n",
    "#     with open(os.path.join(DATA_DIR, \"metadata\", f\"PillProjectDisc{idx}.json\"), \"w\") as f:\n",
    "#         json.dump(image_dict, f)\n",
    "\n",
    "# Combine metadata into 1 single json file\n",
    "master_metadata = {}\n",
    "\n",
    "for metadata_file in os.listdir(os.path.join(METADATA_DIR, \"all_metadata\")):\n",
    "    metadata_folder = metadata_file[:-5]\n",
    "    with open(os.path.join(METADATA_DIR, \"all_metadata\", metadata_file), \"r\") as f:\n",
    "        metadata_dict = json.load(f)\n",
    "    for file_name, metadata_content in metadata_dict.items():\n",
    "        image_url = os.path.join(metadata_folder, \"images\", file_name)\n",
    "        extracted_metadata = extract_metadata(metadata_content, format=\"original\")\n",
    "        master_metadata[image_url] = extracted_metadata\n",
    "        \n",
    "with open(os.path.join(METADATA_DIR, \"master_metadata.json\"), \"w\") as f:\n",
    "    json.dump(master_metadata, f)"
   ]
  },
  {
   "cell_type": "markdown",
   "metadata": {},
   "source": [
    "## Check metadata and validate consistency"
   ]
  },
  {
   "cell_type": "code",
   "execution_count": 13,
   "metadata": {},
   "outputs": [],
   "source": [
    "with open(os.path.join(METADATA_DIR, \"master_metadata.json\"), \"r\") as f:\n",
    "    master_metadata = json.load(f)"
   ]
  },
  {
   "cell_type": "code",
   "execution_count": 24,
   "metadata": {},
   "outputs": [],
   "source": [
    "pill_names = []\n",
    "pill_metadatas = []\n",
    "\n",
    "for _, row_content in final_test_df.iterrows():\n",
    "    metadata1 = master_metadata[row_content[\"first_reference\"]]\n",
    "    metadata2 = master_metadata[row_content[\"second_reference\"]]\n",
    "    assert row_content[\"ndc11\"] == metadata1[\"ndc11\"] == metadata2[\"ndc11\"], \"NDCID mismatches for {}\".format(row_content[\"ndc11\"])\n",
    "    assert metadata1[\"part\"] == metadata2[\"part\"], \"Part mismatches for {}\".format(row_content[\"ndc11\"])\n",
    "    assert metadata1[\"name\"] == metadata2[\"name\"], \"Name mismatches for {}\".format(row_content[\"ndc11\"])\n",
    "    assert metadata1[\"metadata\"] == metadata2[\"metadata\"], \"Metadata mismatches for {}\".format(row_content[\"ndc11\"])\n",
    "    pill_names.append(metadata1[\"name\"])\n",
    "    pill_metadatas.append(metadata1[\"metadata\"])\n",
    "    \n",
    "final_test_df[\"name\"] = pill_names\n",
    "final_test_df[\"metadata\"] = pill_metadatas"
   ]
  },
  {
   "cell_type": "code",
   "execution_count": 27,
   "metadata": {},
   "outputs": [
    {
     "data": {
      "text/plain": [
       "{'Shape': 'CAPSULE',\n",
       " 'Color': 'WHITE',\n",
       " 'Imprint': 'Lilly;3227;10;mg',\n",
       " 'ImprintColor': 'BLACK',\n",
       " 'ImprintType': 'PRINTED',\n",
       " 'Score': '1'}"
      ]
     },
     "execution_count": 27,
     "metadata": {},
     "output_type": "execute_result"
    }
   ],
   "source": [
    "final_test_df[\"metadata\"][0]"
   ]
  },
  {
   "cell_type": "code",
   "execution_count": 28,
   "metadata": {},
   "outputs": [],
   "source": [
    "final_test_df.to_csv(os.path.join(DATA_DIR, \"exp_metadata.csv\"), index=False)"
   ]
  },
  {
   "cell_type": "code",
   "execution_count": null,
   "metadata": {},
   "outputs": [],
   "source": [
    "for idx, row_content in final_test_df.iterrows():\n",
    "    if idx == 10:\n",
    "        break\n",
    "    img_list = [\n",
    "        row_content[\"first_reference\"],\n",
    "        row_content[\"second_reference\"],\n",
    "        # row_content[\"consumer_1\"],\n",
    "        # row_content[\"consumer_2\"],\n",
    "        # row_content[\"consumer_3\"],\n",
    "        # row_content[\"consumer_4\"],\n",
    "        # row_content[\"consumer_5\"],\n",
    "    ]\n",
    "    \n",
    "    plot_images([os.path.join(DATA_DIR, \"reference\", img_path) for img_path in img_list])"
   ]
  },
  {
   "cell_type": "markdown",
   "metadata": {},
   "source": [
    "## Extra"
   ]
  },
  {
   "cell_type": "code",
   "execution_count": 7,
   "metadata": {},
   "outputs": [],
   "source": [
    "extra_test_df = pd.read_csv(os.path.join(DATA_DIR, \"extra_exp_metadata.csv\"))"
   ]
  },
  {
   "cell_type": "code",
   "execution_count": 11,
   "metadata": {},
   "outputs": [
    {
     "name": "stdout",
     "output_type": "stream",
     "text": [
      "Number of rows in reference dataset: 134\n",
      "Number of pills in reference dataset: 67\n",
      "Number of rows in consumer dataset: 1077\n",
      "Number of pills in consumer dataset: 67\n",
      "67\n"
     ]
    }
   ],
   "source": [
    "reference_df = master_df[master_df[\"layout\"] == \"MC_CHALLENGE_V1.0\"]\n",
    "reference_count_df = reference_df.groupby([\"ndc11\", \"part\"])[\"ndc11\"].value_counts().reset_index()\n",
    "reference_count_df = reference_count_df[(reference_count_df[\"count\"]==2)&(reference_count_df[\"part\"]==1)]\n",
    "reference_list = reference_count_df[\"ndc11\"].values[DATASET_SIZE:]\n",
    "reference_df = reference_df[reference_df[\"part\"] == 1]\n",
    "reference_df = reference_df[reference_df[\"ndc11\"].isin(reference_list)]\n",
    "reference_df[\"reference_count\"] = reference_df.groupby(\"ndc11\")[\"image\"].rank()\n",
    "print(\"Number of rows in reference dataset:\", len(reference_df))\n",
    "print(\"Number of pills in reference dataset:\", len(reference_df[\"ndc11\"].unique()))\n",
    "\n",
    "consumer_df = master_df[master_df[\"layout\"] == \"C3PI_Test\"]\n",
    "consumer_df = consumer_df[consumer_df[\"part\"] == 1]\n",
    "consumer_df = consumer_df[consumer_df[\"ndc11\"].isin(reference_list)]\n",
    "\n",
    "print(\"Number of rows in consumer dataset:\", len(consumer_df))\n",
    "print(\"Number of pills in consumer dataset:\", len(consumer_df[\"ndc11\"].unique()))\n",
    "\n",
    "sampled_consumer_df = consumer_df.groupby(\"ndc11\").agg({\"image\": partial(custom_sample, k=NO_CONSUMER_IMAGES)}).reset_index()\n",
    "extra_test_df = pd.concat(\n",
    "    [\n",
    "        sampled_consumer_df[[\"ndc11\"]],\n",
    "        pd.DataFrame(sampled_consumer_df[\"image\"].values.tolist(), columns=[f\"consumer_{i+1}\" for i in range(5)])\n",
    "    ], axis=1\n",
    ")\n",
    "first_reference = reference_df[reference_df[\"reference_count\"] == 1][[\"ndc11\", \"image\"]].rename(columns={\"image\": \"first_reference\"})\n",
    "second_reference = reference_df[reference_df[\"reference_count\"] == 2][[\"ndc11\", \"image\"]].rename(columns={\"image\": \"second_reference\"})\n",
    "\n",
    "extra_test_df = extra_test_df.merge(first_reference, how=\"inner\", on=\"ndc11\")\n",
    "extra_test_df = extra_test_df.merge(second_reference, how=\"inner\", on=\"ndc11\")\n",
    "\n",
    "print(len(extra_test_df))"
   ]
  },
  {
   "cell_type": "code",
   "execution_count": 14,
   "metadata": {},
   "outputs": [],
   "source": [
    "pill_names = []\n",
    "pill_metadatas = []\n",
    "\n",
    "for _, row_content in extra_test_df.iterrows():\n",
    "    metadata1 = master_metadata[row_content[\"first_reference\"]]\n",
    "    metadata2 = master_metadata[row_content[\"second_reference\"]]\n",
    "    assert row_content[\"ndc11\"] == metadata1[\"ndc11\"] == metadata2[\"ndc11\"], \"NDCID mismatches for {}\".format(row_content[\"ndc11\"])\n",
    "    assert metadata1[\"part\"] == metadata2[\"part\"], \"Part mismatches for {}\".format(row_content[\"ndc11\"])\n",
    "    assert metadata1[\"name\"] == metadata2[\"name\"], \"Name mismatches for {}\".format(row_content[\"ndc11\"])\n",
    "    assert metadata1[\"metadata\"] == metadata2[\"metadata\"], \"Metadata mismatches for {}\".format(row_content[\"ndc11\"])\n",
    "    pill_names.append(metadata1[\"name\"])\n",
    "    pill_metadatas.append(metadata1[\"metadata\"])\n",
    "    \n",
    "extra_test_df[\"name\"] = pill_names\n",
    "extra_test_df[\"metadata\"] = pill_metadatas"
   ]
  },
  {
   "cell_type": "code",
   "execution_count": 16,
   "metadata": {},
   "outputs": [],
   "source": [
    "extra_test_df.to_csv(os.path.join(DATA_DIR, \"extra_exp_metadata.csv\"), index=False)"
   ]
  },
  {
   "cell_type": "markdown",
   "metadata": {},
   "source": [
    "# Split out consumer images dataset"
   ]
  },
  {
   "cell_type": "code",
   "execution_count": 76,
   "metadata": {},
   "outputs": [],
   "source": []
  },
  {
   "cell_type": "code",
   "execution_count": 29,
   "metadata": {},
   "outputs": [
    {
     "name": "stdout",
     "output_type": "stream",
     "text": [
      "/mnt/d/pill_test_data/consumers/PillProjectDisc21/images/B5T5HI5XI8X2HSBJL-TGDHET4YG5C5F.JPG\n"
     ]
    },
    {
     "ename": "FileNotFoundError",
     "evalue": "[Errno 2] No such file or directory: '/mnt/d/pill_test_data/consumers/PillProjectDisc21/images/B5T5HI5XI8X2HSBJL-TGDHET4YG5C5F.JPG'",
     "output_type": "error",
     "traceback": [
      "\u001b[0;31m---------------------------------------------------------------------------\u001b[0m",
      "\u001b[0;31mFileNotFoundError\u001b[0m                         Traceback (most recent call last)",
      "Cell \u001b[0;32mIn[29], line 16\u001b[0m\n\u001b[1;32m     13\u001b[0m \u001b[38;5;28;01mif\u001b[39;00m \u001b[38;5;129;01mnot\u001b[39;00m os\u001b[38;5;241m.\u001b[39mpath\u001b[38;5;241m.\u001b[39mexists(os\u001b[38;5;241m.\u001b[39mpath\u001b[38;5;241m.\u001b[39mdirname(destination_path)):\n\u001b[1;32m     14\u001b[0m     os\u001b[38;5;241m.\u001b[39mmakedirs(os\u001b[38;5;241m.\u001b[39mpath\u001b[38;5;241m.\u001b[39mdirname(destination_path), exist_ok\u001b[38;5;241m=\u001b[39m\u001b[38;5;28;01mTrue\u001b[39;00m)\n\u001b[0;32m---> 16\u001b[0m \u001b[43mcopyfile\u001b[49m\u001b[43m(\u001b[49m\u001b[43moriginal_filepath\u001b[49m\u001b[43m,\u001b[49m\u001b[43m \u001b[49m\u001b[43mdestination_path\u001b[49m\u001b[43m)\u001b[49m\n",
      "File \u001b[0;32m/usr/lib/python3.10/shutil.py:254\u001b[0m, in \u001b[0;36mcopyfile\u001b[0;34m(src, dst, follow_symlinks)\u001b[0m\n\u001b[1;32m    252\u001b[0m     os\u001b[38;5;241m.\u001b[39msymlink(os\u001b[38;5;241m.\u001b[39mreadlink(src), dst)\n\u001b[1;32m    253\u001b[0m \u001b[38;5;28;01melse\u001b[39;00m:\n\u001b[0;32m--> 254\u001b[0m     \u001b[38;5;28;01mwith\u001b[39;00m \u001b[38;5;28;43mopen\u001b[39;49m\u001b[43m(\u001b[49m\u001b[43msrc\u001b[49m\u001b[43m,\u001b[49m\u001b[43m \u001b[49m\u001b[38;5;124;43m'\u001b[39;49m\u001b[38;5;124;43mrb\u001b[39;49m\u001b[38;5;124;43m'\u001b[39;49m\u001b[43m)\u001b[49m \u001b[38;5;28;01mas\u001b[39;00m fsrc:\n\u001b[1;32m    255\u001b[0m         \u001b[38;5;28;01mtry\u001b[39;00m:\n\u001b[1;32m    256\u001b[0m             \u001b[38;5;28;01mwith\u001b[39;00m \u001b[38;5;28mopen\u001b[39m(dst, \u001b[38;5;124m'\u001b[39m\u001b[38;5;124mwb\u001b[39m\u001b[38;5;124m'\u001b[39m) \u001b[38;5;28;01mas\u001b[39;00m fdst:\n\u001b[1;32m    257\u001b[0m                 \u001b[38;5;66;03m# macOS\u001b[39;00m\n",
      "\u001b[0;31mFileNotFoundError\u001b[0m: [Errno 2] No such file or directory: '/mnt/d/pill_test_data/consumers/PillProjectDisc21/images/B5T5HI5XI8X2HSBJL-TGDHET4YG5C5F.JPG'"
     ]
    }
   ],
   "source": [
    "final_test_df = pd.read_csv(os.path.join(DATA_DIR, \"exp_metadata.csv\"))\n",
    "all_consumer_dir = os.path.join(\"/mnt/d/\", \"pill_test_data\", \"consumers\")\n",
    "selected_consumer_dir = os.path.join(\"/mnt/d/\", \"pill_test_data\", \"selected_consumers\")\n",
    "all_extension = set()\n",
    "\n",
    "for i in range(5):\n",
    "    col_name = f\"consumer_{i+1}\"\n",
    "    for filename in final_test_df[col_name]:\n",
    "        original_filepath = os.path.join(all_consumer_dir, filename)\n",
    "        if not os.path.exists(original_filepath):\n",
    "            print(original_filepath)\n",
    "        destination_path = os.path.join(selected_consumer_dir, filename)\n",
    "        if not os.path.exists(os.path.dirname(destination_path)):\n",
    "            os.makedirs(os.path.dirname(destination_path), exist_ok=True)\n",
    "        \n",
    "        copyfile(original_filepath, destination_path)"
   ]
  },
  {
   "cell_type": "code",
   "execution_count": 30,
   "metadata": {},
   "outputs": [
    {
     "data": {
      "text/plain": [
       "10000"
      ]
     },
     "execution_count": 30,
     "metadata": {},
     "output_type": "execute_result"
    }
   ],
   "source": [
    "all_files = []\n",
    "all_files.extend(list(final_test_df[\"consumer_1\"]))\n",
    "all_files.extend(list(final_test_df[\"consumer_2\"]))\n",
    "all_files.extend(list(final_test_df[\"consumer_3\"]))\n",
    "all_files.extend(list(final_test_df[\"consumer_4\"]))\n",
    "all_files.extend(list(final_test_df[\"consumer_5\"]))\n",
    "\n",
    "len(set(all_files))"
   ]
  },
  {
   "cell_type": "code",
   "execution_count": 37,
   "metadata": {},
   "outputs": [],
   "source": [
    "for file in all_files:\n",
    "    assert os.path.exists(os.path.join(CONSUMER_DIR, file)), os.path.join(CONSUMER_DIR, file)"
   ]
  },
  {
   "cell_type": "code",
   "execution_count": 31,
   "metadata": {},
   "outputs": [
    {
     "data": {
      "text/plain": [
       "0"
      ]
     },
     "execution_count": 31,
     "metadata": {},
     "output_type": "execute_result"
    }
   ],
   "source": [
    "# Check\n",
    "all_selected_consumer_img = glob(os.path.join(selected_consumer_dir, \"**/*.JPG\"), recursive=True)\n",
    "len(all_selected_consumer_img)"
   ]
  }
 ],
 "metadata": {
  "kernelspec": {
   "display_name": "venv",
   "language": "python",
   "name": "python3"
  },
  "language_info": {
   "codemirror_mode": {
    "name": "ipython",
    "version": 3
   },
   "file_extension": ".py",
   "mimetype": "text/x-python",
   "name": "python",
   "nbconvert_exporter": "python",
   "pygments_lexer": "ipython3",
   "version": "3.10.12"
  }
 },
 "nbformat": 4,
 "nbformat_minor": 2
}
