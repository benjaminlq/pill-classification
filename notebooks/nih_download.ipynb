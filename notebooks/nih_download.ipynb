{
 "cells": [
  {
   "cell_type": "code",
   "execution_count": 47,
   "metadata": {},
   "outputs": [],
   "source": [
    "import os\n",
    "import pandas as pd\n",
    "from tqdm import tqdm\n",
    "import requests\n",
    "from PIL import Image\n",
    "from io import BytesIO"
   ]
  },
  {
   "cell_type": "code",
   "execution_count": 19,
   "metadata": {},
   "outputs": [],
   "source": [
    "MAIN_DIR = os.path.dirname(os.getcwd())\n",
    "DATA_DIR = os.path.join(MAIN_DIR, \"data\")\n",
    "PARENT_DL_DIR = \"https://data.lhncbc.nlm.nih.gov/public/Pills\""
   ]
  },
  {
   "cell_type": "code",
   "execution_count": 6,
   "metadata": {},
   "outputs": [],
   "source": [
    "metadata_df = pd.read_csv(os.path.join(DATA_DIR, \"metadata\", \"directory_consumer_grade_images.csv\"))\n",
    "metadata_df.head()"
   ]
  },
  {
   "cell_type": "code",
   "execution_count": 10,
   "metadata": {},
   "outputs": [
    {
     "name": "stdout",
     "output_type": "stream",
     "text": [
      "Number of unique drugs: 3010\n"
     ]
    }
   ],
   "source": [
    "print(\"Number of unique drugs:\", len(metadata_df[\"Name\"].unique()))\n",
    "print(metadata_df[\"Layout\"].unique())"
   ]
  },
  {
   "cell_type": "code",
   "execution_count": 14,
   "metadata": {},
   "outputs": [
    {
     "data": {
      "text/plain": [
       "47952"
      ]
     },
     "execution_count": 14,
     "metadata": {},
     "output_type": "execute_result"
    }
   ],
   "source": [
    "test_df = metadata_df[metadata_df[\"Layout\"].isin(['C3PI_Test', 'MC_CHALLENGE_V1.0'])]\n",
    "len(test_df)"
   ]
  },
  {
   "cell_type": "code",
   "execution_count": 48,
   "metadata": {},
   "outputs": [
    {
     "data": {
      "text/html": [
       "<div>\n",
       "<style scoped>\n",
       "    .dataframe tbody tr th:only-of-type {\n",
       "        vertical-align: middle;\n",
       "    }\n",
       "\n",
       "    .dataframe tbody tr th {\n",
       "        vertical-align: top;\n",
       "    }\n",
       "\n",
       "    .dataframe thead th {\n",
       "        text-align: right;\n",
       "    }\n",
       "</style>\n",
       "<table border=\"1\" class=\"dataframe\">\n",
       "  <thead>\n",
       "    <tr style=\"text-align: right;\">\n",
       "      <th></th>\n",
       "      <th>NDC11</th>\n",
       "      <th>Part</th>\n",
       "      <th>Image</th>\n",
       "      <th>Layout</th>\n",
       "      <th>Name</th>\n",
       "    </tr>\n",
       "  </thead>\n",
       "  <tbody>\n",
       "    <tr>\n",
       "      <th>2</th>\n",
       "      <td>2322730</td>\n",
       "      <td>1</td>\n",
       "      <td>PillProjectDisc10/images/79U-YY6M1UUR6F127ZMAC...</td>\n",
       "      <td>C3PI_Test</td>\n",
       "      <td>STRATTERA 10MG</td>\n",
       "    </tr>\n",
       "    <tr>\n",
       "      <th>3</th>\n",
       "      <td>2322730</td>\n",
       "      <td>1</td>\n",
       "      <td>PillProjectDisc11/images/7WVFV5H74!ELFNQ_GUH92...</td>\n",
       "      <td>C3PI_Test</td>\n",
       "      <td>STRATTERA 10MG</td>\n",
       "    </tr>\n",
       "    <tr>\n",
       "      <th>4</th>\n",
       "      <td>2322730</td>\n",
       "      <td>1</td>\n",
       "      <td>PillProjectDisc20/images/B4CH0R9B7PEQ6GORRX-8X...</td>\n",
       "      <td>C3PI_Test</td>\n",
       "      <td>STRATTERA 10MG</td>\n",
       "    </tr>\n",
       "    <tr>\n",
       "      <th>5</th>\n",
       "      <td>2322730</td>\n",
       "      <td>1</td>\n",
       "      <td>PillProjectDisc21/images/B5T5HI5XI8X2HSBJL-TGD...</td>\n",
       "      <td>C3PI_Test</td>\n",
       "      <td>STRATTERA 10MG</td>\n",
       "    </tr>\n",
       "    <tr>\n",
       "      <th>6</th>\n",
       "      <td>2322730</td>\n",
       "      <td>1</td>\n",
       "      <td>PillProjectDisc25/images/B8S621VZTSXR4Z4VRHYLT...</td>\n",
       "      <td>C3PI_Test</td>\n",
       "      <td>STRATTERA 10MG</td>\n",
       "    </tr>\n",
       "  </tbody>\n",
       "</table>\n",
       "</div>"
      ],
      "text/plain": [
       "     NDC11  Part                                              Image  \\\n",
       "2  2322730     1  PillProjectDisc10/images/79U-YY6M1UUR6F127ZMAC...   \n",
       "3  2322730     1  PillProjectDisc11/images/7WVFV5H74!ELFNQ_GUH92...   \n",
       "4  2322730     1  PillProjectDisc20/images/B4CH0R9B7PEQ6GORRX-8X...   \n",
       "5  2322730     1  PillProjectDisc21/images/B5T5HI5XI8X2HSBJL-TGD...   \n",
       "6  2322730     1  PillProjectDisc25/images/B8S621VZTSXR4Z4VRHYLT...   \n",
       "\n",
       "      Layout            Name  \n",
       "2  C3PI_Test  STRATTERA 10MG  \n",
       "3  C3PI_Test  STRATTERA 10MG  \n",
       "4  C3PI_Test  STRATTERA 10MG  \n",
       "5  C3PI_Test  STRATTERA 10MG  \n",
       "6  C3PI_Test  STRATTERA 10MG  "
      ]
     },
     "execution_count": 48,
     "metadata": {},
     "output_type": "execute_result"
    }
   ],
   "source": [
    "test_df.head()"
   ]
  },
  {
   "cell_type": "code",
   "execution_count": 67,
   "metadata": {},
   "outputs": [
    {
     "name": "stderr",
     "output_type": "stream",
     "text": [
      "  0%|          | 0/47952 [00:00<?, ?it/s]"
     ]
    },
    {
     "name": "stderr",
     "output_type": "stream",
     "text": [
      "  0%|          | 195/47952 [10:09<32:24:19,  2.44s/it]"
     ]
    }
   ],
   "source": [
    "with open(os.path.join(DATA_DIR, \"consumers\", \"test.txt\"), 'a') as f:\n",
    "\n",
    "    for filename in tqdm(test_df[\"Image\"], total=len(test_df[\"Image\"])):\n",
    "        img_url = os.path.join(PARENT_DL_DIR, filename)\n",
    "        download_url = os.path.join(DATA_DIR, \"consumers\", filename)\n",
    "        if not os.path.exists(os.path.dirname(download_url)):\n",
    "            os.makedirs(os.path.dirname(download_url), exist_ok=True)\n",
    "            \n",
    "        img_data = requests.get(img_url).content\n",
    "        \n",
    "        if img_url.endswith(\"JPG\") or img_url.endswith(\"PNG\"):\n",
    "            # Image\n",
    "            img = Image.open(BytesIO(img_data))           \n",
    "            img.save(download_url)\n",
    "        \n",
    "        elif img_url.endswith(\"WMV\"):\n",
    "            with open(download_url, 'wb') as handler:\n",
    "                handler.write(img_data)\n",
    "        \n",
    "        f.write(download_url + \"\\n\")"
   ]
  }
 ],
 "metadata": {
  "kernelspec": {
   "display_name": "venv",
   "language": "python",
   "name": "python3"
  },
  "language_info": {
   "codemirror_mode": {
    "name": "ipython",
    "version": 3
   },
   "file_extension": ".py",
   "mimetype": "text/x-python",
   "name": "python",
   "nbconvert_exporter": "python",
   "pygments_lexer": "ipython3",
   "version": "3.10.12"
  }
 },
 "nbformat": 4,
 "nbformat_minor": 2
}
